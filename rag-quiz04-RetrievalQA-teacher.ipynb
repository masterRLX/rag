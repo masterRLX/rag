{
 "cells": [
  {
   "cell_type": "markdown",
   "id": "0c58f142",
   "metadata": {},
   "source": [
    "## law_1.docx, law_2.docx 문서 두개\n",
    "- pinecone store 저장 (하나의 인덱스에 저장)\n",
    "    - index name 임의\n",
    "- RetrievalQA 구현\n",
    "    - prompt: rlm/rag-prompt\n",
    "    - 질문: 전세사기\n"
   ]
  },
  {
   "cell_type": "code",
   "execution_count": 3,
   "id": "8183a9d8",
   "metadata": {},
   "outputs": [
    {
     "name": "stderr",
     "output_type": "stream",
     "text": [
      "c:\\Users\\71\\miniconda3\\envs\\project\\lib\\site-packages\\tqdm\\auto.py:21: TqdmWarning: IProgress not found. Please update jupyter and ipywidgets. See https://ipywidgets.readthedocs.io/en/stable/user_install.html\n",
      "  from .autonotebook import tqdm as notebook_tqdm\n"
     ]
    }
   ],
   "source": [
    "import os\n",
    "\n",
    "from dotenv import load_dotenv\n",
    "from langchain import hub\n",
    "from langchain_community.document_loaders import Docx2txtLoader\n",
    "from langchain_core.output_parsers import StrOutputParser\n",
    "from langchain_core.runnables import RunnablePassthrough\n",
    "from langchain_openai import ChatOpenAI, OpenAIEmbeddings\n",
    "from langchain_pinecone import PineconeVectorStore\n",
    "from langchain_text_splitters import RecursiveCharacterTextSplitter\n",
    "from pinecone import Pinecone\n",
    "\n",
    "\n",
    "##환경변수 읽어오기\n",
    "load_dotenv()\n",
    "PINECONE_API_KEY = os.getenv('PINECONE_API_KEY')\n",
    "LANCHAIN_API_KEY = os.getenv('LANGCHAIN_API_KEY')"
   ]
  },
  {
   "cell_type": "code",
   "execution_count": 9,
   "id": "b9c0c1cf",
   "metadata": {},
   "outputs": [
    {
     "data": {
      "text/plain": [
       "29"
      ]
     },
     "execution_count": 9,
     "metadata": {},
     "output_type": "execute_result"
    }
   ],
   "source": [
    "\n",
    "## 문서 읽고 분할 #############################################\n",
    "## 문서 파일 목록\n",
    "doc_paths = ['law_1.docx', 'law_2.docx']\n",
    "\n",
    "## 문서 로드 (읽어오기)\n",
    "documents = []\n",
    "\n",
    "for path in doc_paths:\n",
    "    loader = Docx2txtLoader(path)\n",
    "    documents.extend(loader.load())\n",
    "\n",
    "## 청크 분할 설정\n",
    "text_splitter = RecursiveCharacterTextSplitter(\n",
    "    chunk_size = 1500,\n",
    "    chunk_overlap = 200,\n",
    ")\n",
    "\n",
    "## 문서 분할 \n",
    "document_list = text_splitter.split_documents(documents)\n",
    "len(document_list)"
   ]
  },
  {
   "cell_type": "code",
   "execution_count": 10,
   "id": "05a4a7ad",
   "metadata": {},
   "outputs": [],
   "source": [
    "\n",
    "## 임베딩 - > 벡터 스토어 (데이터베이스)에 저장\n",
    "\n",
    "## 임베딩 모델 지정\n",
    "embedding = OpenAIEmbeddings(model='text-embedding-3-large')\n",
    "\n",
    "pc = Pinecone(api_key=PINECONE_API_KEY)\n",
    "index_name = 'laws'\n",
    "\n",
    "## 파인콘 : 저장\n",
    "# database = PineconeVectorStore.from_documents(\n",
    "#     documents=document_list,\n",
    "#     embedding=embedding,\n",
    "#     index_name='laws',\n",
    "# )\n",
    "\n",
    "#저장된 인덱스 가져오기\n",
    "## [방법 1]\n",
    "# database = PineconeVectorStore(\n",
    "#     index=pc.Index('law1'),\n",
    "#     embedding=embedding,\n",
    "# )\n",
    "\n",
    "## [방법 2]\n",
    "database = PineconeVectorStore.from_existing_index(\n",
    "    index_name=index_name,\n",
    "    embedding=embedding\n",
    ")\n"
   ]
  },
  {
   "cell_type": "code",
   "execution_count": null,
   "id": "630bea58",
   "metadata": {},
   "outputs": [
    {
     "data": {
      "text/plain": [
       "'전세사기 피해자의 임대인은 전세사기 피해 방지법에 따라 정의됩니다. 임대인 또는 임대인의 대리인, 공인중개사, 임차인을 모집하는 자, 다수 임대인의 배후에 있는 동일인 또는 이와 관련된 조직 등이 해당될 수 있습니다. 이들은 전세사기와 관련하여 임대차 계약에 관여하는 사람들로 정의됩니다.'"
      ]
     },
     "execution_count": 11,
     "metadata": {},
     "output_type": "execute_result"
    }
   ],
   "source": [
    "\n",
    "\n",
    "## RetrievalQA\n",
    "llm = ChatOpenAI(model='gpt-4o')\n",
    "\n",
    "prompt = hub.pull('rlm/rag-prompt')\n",
    "\n",
    "def format_docs(docs):\n",
    "    return '\\n\\n'.join(doc.page_content for doc in docs)\n",
    "\n",
    "qa_chain = (\n",
    "    {'context': database.as_retriever() | format_docs,\n",
    "     'question': RunnablePassthrough(),\n",
    "    }\n",
    "    | prompt\n",
    "    | llm\n",
    "    | StrOutputParser()\n",
    ")\n",
    "\n",
    "# qa_chain.invoke('전세사기 피해자 대상을 알려주세요.')\n",
    "qa_chain.invoke('전세사기 피해자 임대인을 알려주세요.')"
   ]
  }
 ],
 "metadata": {
  "kernelspec": {
   "display_name": "project",
   "language": "python",
   "name": "python3"
  },
  "language_info": {
   "codemirror_mode": {
    "name": "ipython",
    "version": 3
   },
   "file_extension": ".py",
   "mimetype": "text/x-python",
   "name": "python",
   "nbconvert_exporter": "python",
   "pygments_lexer": "ipython3",
   "version": "3.10.12"
  }
 },
 "nbformat": 4,
 "nbformat_minor": 5
}
