{
 "cells": [
  {
   "cell_type": "markdown",
   "id": "c1d9dacc",
   "metadata": {},
   "source": [
    "1. 문서 내용 읽기  \n",
    "2. 문서 분할(쪼개기)  \n",
    "    - 문서를 분할하지 않으면,\n",
    "        - 토큰 수 초과로 답변을 생성하지 못할 수 있음.  \n",
    "        - 문서 길이(input)가 길어서 답변 생성에 시간 소요됨 - > 답변 늦어짐  \n",
    "3. 임베딩 - 벡터 데이터베이스에 저장\n",
    "4. 질문이 있으면, 벡터 데이터베이스 유사도 검색\n",
    "5. 유사도 검색으로 가져온 문서를 LLM에 질문과 같이 전달\n",
    "\n"
   ]
  },
  {
   "cell_type": "code",
   "execution_count": null,
   "id": "54b14f59",
   "metadata": {},
   "outputs": [],
   "source": [
    "## 패키지/라이브러리 설치\n",
    "# %pip install -qU docx2txt langchain-community langchain-text-splitters langchain-chroma"
   ]
  },
  {
   "cell_type": "code",
   "execution_count": 2,
   "id": "7c51aca0",
   "metadata": {},
   "outputs": [],
   "source": [
    "from dotenv import load_dotenv\n",
    "from langchain_openai import OpenAIEmbeddings, ChatOpenAI\n",
    "from langchain_chroma import Chroma\n",
    "from langchain_text_splitters import RecursiveCharacterTextSplitter\n",
    "from langchain_community.document_loaders import Docx2txtLoader\n",
    "\n",
    "\n",
    "## 1. 문서 내용 읽고 분할 #############################################\n",
    "loader = Docx2txtLoader('law_1.docx')\n",
    "\n",
    "text_splitter = RecursiveCharacterTextSplitter(\n",
    "    chunk_size=1500,\n",
    "    chunk_overlap=200,\n",
    ")\n",
    "document_list = loader.load_and_split(text_splitter=text_splitter)\n",
    "\n",
    "## 2. 임베딩 -> 벡터 데이터베이스에 저장 #############################\n",
    "   \n",
    "## 2.1. 환경변수 읽어오기\n",
    "load_dotenv()\n",
    "\n",
    "## 2.2. 임베딩 모델 지정\n",
    "embedding = OpenAIEmbeddings(model='text-embedding-3-large')\n"
   ]
  },
  {
   "cell_type": "code",
   "execution_count": null,
   "id": "31ef3c5e",
   "metadata": {},
   "outputs": [],
   "source": [
    "\n",
    "## 2.3. 벡터 데이터베이스에 저장  \n",
    "\n",
    "## 데이터베이스에 저장\n",
    "##[방법1] in memory\n",
    "# database = Chroma.from_documents(\n",
    "#     documents=document_list,\n",
    "#     embedding=embedding,\n",
    "# )\n",
    "\n"
   ]
  },
  {
   "cell_type": "code",
   "execution_count": null,
   "id": "3ccce9bc",
   "metadata": {},
   "outputs": [
    {
     "name": "stdout",
     "output_type": "stream",
     "text": [
      "Collecting langchain-pinecone\n",
      "  Downloading langchain_pinecone-0.2.6-py3-none-any.whl.metadata (5.3 kB)\n",
      "Requirement already satisfied: langchain-core<1.0.0,>=0.3.34 in c:\\users\\71\\miniconda3\\envs\\project\\lib\\site-packages (from langchain-pinecone) (0.3.63)\n",
      "Collecting pinecone<7.0.0,>=6.0.0 (from pinecone[async]<7.0.0,>=6.0.0->langchain-pinecone)\n",
      "  Downloading pinecone-6.0.2-py3-none-any.whl.metadata (9.0 kB)\n",
      "Collecting aiohttp<3.11,>=3.10 (from langchain-pinecone)\n",
      "  Downloading aiohttp-3.10.11-cp310-cp310-win_amd64.whl.metadata (8.0 kB)\n",
      "Requirement already satisfied: numpy>=1.26.4 in c:\\users\\71\\miniconda3\\envs\\project\\lib\\site-packages (from langchain-pinecone) (2.2.6)\n",
      "Collecting langchain-tests<1.0.0,>=0.3.7 (from langchain-pinecone)\n",
      "  Downloading langchain_tests-0.3.19-py3-none-any.whl.metadata (3.2 kB)\n",
      "Requirement already satisfied: aiohappyeyeballs>=2.3.0 in c:\\users\\71\\miniconda3\\envs\\project\\lib\\site-packages (from aiohttp<3.11,>=3.10->langchain-pinecone) (2.6.1)\n",
      "Requirement already satisfied: aiosignal>=1.1.2 in c:\\users\\71\\miniconda3\\envs\\project\\lib\\site-packages (from aiohttp<3.11,>=3.10->langchain-pinecone) (1.3.2)\n",
      "Requirement already satisfied: attrs>=17.3.0 in c:\\users\\71\\miniconda3\\envs\\project\\lib\\site-packages (from aiohttp<3.11,>=3.10->langchain-pinecone) (25.3.0)\n",
      "Requirement already satisfied: frozenlist>=1.1.1 in c:\\users\\71\\miniconda3\\envs\\project\\lib\\site-packages (from aiohttp<3.11,>=3.10->langchain-pinecone) (1.6.0)\n",
      "Requirement already satisfied: multidict<7.0,>=4.5 in c:\\users\\71\\miniconda3\\envs\\project\\lib\\site-packages (from aiohttp<3.11,>=3.10->langchain-pinecone) (6.4.4)\n",
      "Requirement already satisfied: yarl<2.0,>=1.12.0 in c:\\users\\71\\miniconda3\\envs\\project\\lib\\site-packages (from aiohttp<3.11,>=3.10->langchain-pinecone) (1.20.0)\n",
      "Requirement already satisfied: async-timeout<6.0,>=4.0 in c:\\users\\71\\miniconda3\\envs\\project\\lib\\site-packages (from aiohttp<3.11,>=3.10->langchain-pinecone) (4.0.3)\n",
      "Requirement already satisfied: langsmith<0.4,>=0.1.126 in c:\\users\\71\\miniconda3\\envs\\project\\lib\\site-packages (from langchain-core<1.0.0,>=0.3.34->langchain-pinecone) (0.3.33)\n",
      "Requirement already satisfied: tenacity!=8.4.0,<10.0.0,>=8.1.0 in c:\\users\\71\\miniconda3\\envs\\project\\lib\\site-packages (from langchain-core<1.0.0,>=0.3.34->langchain-pinecone) (9.1.2)\n",
      "Requirement already satisfied: jsonpatch<2.0,>=1.33 in c:\\users\\71\\miniconda3\\envs\\project\\lib\\site-packages (from langchain-core<1.0.0,>=0.3.34->langchain-pinecone) (1.33)\n",
      "Requirement already satisfied: PyYAML>=5.3 in c:\\users\\71\\miniconda3\\envs\\project\\lib\\site-packages (from langchain-core<1.0.0,>=0.3.34->langchain-pinecone) (6.0.2)\n",
      "Requirement already satisfied: packaging<25,>=23.2 in c:\\users\\71\\miniconda3\\envs\\project\\lib\\site-packages (from langchain-core<1.0.0,>=0.3.34->langchain-pinecone) (24.2)\n",
      "Requirement already satisfied: typing-extensions>=4.7 in c:\\users\\71\\miniconda3\\envs\\project\\lib\\site-packages (from langchain-core<1.0.0,>=0.3.34->langchain-pinecone) (4.13.2)\n",
      "Requirement already satisfied: pydantic>=2.7.4 in c:\\users\\71\\miniconda3\\envs\\project\\lib\\site-packages (from langchain-core<1.0.0,>=0.3.34->langchain-pinecone) (2.11.3)\n",
      "Collecting pytest<9,>=7 (from langchain-tests<1.0.0,>=0.3.7->langchain-pinecone)\n",
      "  Downloading pytest-8.4.0-py3-none-any.whl.metadata (7.7 kB)\n",
      "Collecting pytest-asyncio<1,>=0.20 (from langchain-tests<1.0.0,>=0.3.7->langchain-pinecone)\n",
      "  Downloading pytest_asyncio-0.26.0-py3-none-any.whl.metadata (4.0 kB)\n",
      "Requirement already satisfied: httpx<1,>=0.25.0 in c:\\users\\71\\miniconda3\\envs\\project\\lib\\site-packages (from langchain-tests<1.0.0,>=0.3.7->langchain-pinecone) (0.28.1)\n",
      "Collecting syrupy<5,>=4 (from langchain-tests<1.0.0,>=0.3.7->langchain-pinecone)\n",
      "  Downloading syrupy-4.9.1-py3-none-any.whl.metadata (38 kB)\n",
      "Collecting pytest-socket<1,>=0.6.0 (from langchain-tests<1.0.0,>=0.3.7->langchain-pinecone)\n",
      "  Downloading pytest_socket-0.7.0-py3-none-any.whl.metadata (6.7 kB)\n",
      "Requirement already satisfied: certifi>=2019.11.17 in c:\\users\\71\\miniconda3\\envs\\project\\lib\\site-packages (from pinecone<7.0.0,>=6.0.0->pinecone[async]<7.0.0,>=6.0.0->langchain-pinecone) (2025.1.31)\n",
      "Collecting pinecone-plugin-interface<0.0.8,>=0.0.7 (from pinecone<7.0.0,>=6.0.0->pinecone[async]<7.0.0,>=6.0.0->langchain-pinecone)\n",
      "  Downloading pinecone_plugin_interface-0.0.7-py3-none-any.whl.metadata (1.2 kB)\n",
      "Requirement already satisfied: python-dateutil>=2.5.3 in c:\\users\\71\\miniconda3\\envs\\project\\lib\\site-packages (from pinecone<7.0.0,>=6.0.0->pinecone[async]<7.0.0,>=6.0.0->langchain-pinecone) (2.9.0.post0)\n",
      "Requirement already satisfied: urllib3>=1.26.0 in c:\\users\\71\\miniconda3\\envs\\project\\lib\\site-packages (from pinecone<7.0.0,>=6.0.0->pinecone[async]<7.0.0,>=6.0.0->langchain-pinecone) (2.4.0)\n",
      "Requirement already satisfied: anyio in c:\\users\\71\\miniconda3\\envs\\project\\lib\\site-packages (from httpx<1,>=0.25.0->langchain-tests<1.0.0,>=0.3.7->langchain-pinecone) (4.9.0)\n",
      "Requirement already satisfied: httpcore==1.* in c:\\users\\71\\miniconda3\\envs\\project\\lib\\site-packages (from httpx<1,>=0.25.0->langchain-tests<1.0.0,>=0.3.7->langchain-pinecone) (1.0.8)\n",
      "Requirement already satisfied: idna in c:\\users\\71\\miniconda3\\envs\\project\\lib\\site-packages (from httpx<1,>=0.25.0->langchain-tests<1.0.0,>=0.3.7->langchain-pinecone) (3.10)\n",
      "Requirement already satisfied: h11<0.15,>=0.13 in c:\\users\\71\\miniconda3\\envs\\project\\lib\\site-packages (from httpcore==1.*->httpx<1,>=0.25.0->langchain-tests<1.0.0,>=0.3.7->langchain-pinecone) (0.14.0)\n",
      "Requirement already satisfied: jsonpointer>=1.9 in c:\\users\\71\\miniconda3\\envs\\project\\lib\\site-packages (from jsonpatch<2.0,>=1.33->langchain-core<1.0.0,>=0.3.34->langchain-pinecone) (3.0.0)\n",
      "Requirement already satisfied: orjson<4.0.0,>=3.9.14 in c:\\users\\71\\miniconda3\\envs\\project\\lib\\site-packages (from langsmith<0.4,>=0.1.126->langchain-core<1.0.0,>=0.3.34->langchain-pinecone) (3.10.16)\n",
      "Requirement already satisfied: requests<3,>=2 in c:\\users\\71\\miniconda3\\envs\\project\\lib\\site-packages (from langsmith<0.4,>=0.1.126->langchain-core<1.0.0,>=0.3.34->langchain-pinecone) (2.32.3)\n",
      "Requirement already satisfied: requests-toolbelt<2.0.0,>=1.0.0 in c:\\users\\71\\miniconda3\\envs\\project\\lib\\site-packages (from langsmith<0.4,>=0.1.126->langchain-core<1.0.0,>=0.3.34->langchain-pinecone) (1.0.0)\n",
      "Requirement already satisfied: zstandard<0.24.0,>=0.23.0 in c:\\users\\71\\miniconda3\\envs\\project\\lib\\site-packages (from langsmith<0.4,>=0.1.126->langchain-core<1.0.0,>=0.3.34->langchain-pinecone) (0.23.0)\n",
      "Requirement already satisfied: annotated-types>=0.6.0 in c:\\users\\71\\miniconda3\\envs\\project\\lib\\site-packages (from pydantic>=2.7.4->langchain-core<1.0.0,>=0.3.34->langchain-pinecone) (0.7.0)\n",
      "Requirement already satisfied: pydantic-core==2.33.1 in c:\\users\\71\\miniconda3\\envs\\project\\lib\\site-packages (from pydantic>=2.7.4->langchain-core<1.0.0,>=0.3.34->langchain-pinecone) (2.33.1)\n",
      "Requirement already satisfied: typing-inspection>=0.4.0 in c:\\users\\71\\miniconda3\\envs\\project\\lib\\site-packages (from pydantic>=2.7.4->langchain-core<1.0.0,>=0.3.34->langchain-pinecone) (0.4.0)\n",
      "Requirement already satisfied: colorama>=0.4 in c:\\users\\71\\miniconda3\\envs\\project\\lib\\site-packages (from pytest<9,>=7->langchain-tests<1.0.0,>=0.3.7->langchain-pinecone) (0.4.6)\n",
      "Requirement already satisfied: exceptiongroup>=1 in c:\\users\\71\\miniconda3\\envs\\project\\lib\\site-packages (from pytest<9,>=7->langchain-tests<1.0.0,>=0.3.7->langchain-pinecone) (1.2.2)\n",
      "Collecting iniconfig>=1 (from pytest<9,>=7->langchain-tests<1.0.0,>=0.3.7->langchain-pinecone)\n",
      "  Downloading iniconfig-2.1.0-py3-none-any.whl.metadata (2.7 kB)\n",
      "Collecting pluggy<2,>=1.5 (from pytest<9,>=7->langchain-tests<1.0.0,>=0.3.7->langchain-pinecone)\n",
      "  Downloading pluggy-1.6.0-py3-none-any.whl.metadata (4.8 kB)\n",
      "Requirement already satisfied: pygments>=2.7.2 in c:\\users\\71\\miniconda3\\envs\\project\\lib\\site-packages (from pytest<9,>=7->langchain-tests<1.0.0,>=0.3.7->langchain-pinecone) (2.19.1)\n",
      "Requirement already satisfied: tomli>=1 in c:\\users\\71\\miniconda3\\envs\\project\\lib\\site-packages (from pytest<9,>=7->langchain-tests<1.0.0,>=0.3.7->langchain-pinecone) (2.2.1)\n",
      "Requirement already satisfied: six>=1.5 in c:\\users\\71\\miniconda3\\envs\\project\\lib\\site-packages (from python-dateutil>=2.5.3->pinecone<7.0.0,>=6.0.0->pinecone[async]<7.0.0,>=6.0.0->langchain-pinecone) (1.17.0)\n",
      "Requirement already satisfied: propcache>=0.2.1 in c:\\users\\71\\miniconda3\\envs\\project\\lib\\site-packages (from yarl<2.0,>=1.12.0->aiohttp<3.11,>=3.10->langchain-pinecone) (0.3.1)\n",
      "Requirement already satisfied: charset-normalizer<4,>=2 in c:\\users\\71\\miniconda3\\envs\\project\\lib\\site-packages (from requests<3,>=2->langsmith<0.4,>=0.1.126->langchain-core<1.0.0,>=0.3.34->langchain-pinecone) (3.4.1)\n",
      "Requirement already satisfied: sniffio>=1.1 in c:\\users\\71\\miniconda3\\envs\\project\\lib\\site-packages (from anyio->httpx<1,>=0.25.0->langchain-tests<1.0.0,>=0.3.7->langchain-pinecone) (1.3.1)\n",
      "Downloading langchain_pinecone-0.2.6-py3-none-any.whl (23 kB)\n",
      "Downloading aiohttp-3.10.11-cp310-cp310-win_amd64.whl (382 kB)\n",
      "Downloading langchain_tests-0.3.19-py3-none-any.whl (40 kB)\n",
      "Downloading pinecone-6.0.2-py3-none-any.whl (421 kB)\n",
      "Downloading pinecone_plugin_interface-0.0.7-py3-none-any.whl (6.2 kB)\n",
      "Downloading pytest-8.4.0-py3-none-any.whl (363 kB)\n",
      "Downloading pytest_asyncio-0.26.0-py3-none-any.whl (19 kB)\n",
      "Downloading pytest_socket-0.7.0-py3-none-any.whl (6.8 kB)\n",
      "Downloading syrupy-4.9.1-py3-none-any.whl (52 kB)\n",
      "Downloading iniconfig-2.1.0-py3-none-any.whl (6.0 kB)\n",
      "Downloading pluggy-1.6.0-py3-none-any.whl (20 kB)\n",
      "Installing collected packages: pluggy, pinecone-plugin-interface, iniconfig, pytest, pinecone, syrupy, pytest-socket, pytest-asyncio, aiohttp, langchain-tests, langchain-pinecone\n",
      "  Attempting uninstall: aiohttp\n",
      "    Found existing installation: aiohttp 3.12.6\n",
      "    Uninstalling aiohttp-3.12.6:\n",
      "      Successfully uninstalled aiohttp-3.12.6\n",
      "Successfully installed aiohttp-3.10.11 iniconfig-2.1.0 langchain-pinecone-0.2.6 langchain-tests-0.3.19 pinecone-6.0.2 pinecone-plugin-interface-0.0.7 pluggy-1.6.0 pytest-8.4.0 pytest-asyncio-0.26.0 pytest-socket-0.7.0 syrupy-4.9.1\n",
      "Note: you may need to restart the kernel to use updated packages.\n"
     ]
    },
    {
     "name": "stderr",
     "output_type": "stream",
     "text": [
      "WARNING: pinecone 6.0.2 does not provide the extra 'async'\n"
     ]
    }
   ],
   "source": [
    "# %pip install langchain-pinecone"
   ]
  },
  {
   "cell_type": "code",
   "execution_count": 4,
   "id": "353349e5",
   "metadata": {},
   "outputs": [
    {
     "name": "stdout",
     "output_type": "stream",
     "text": [
      "Requirement already satisfied: pinecone in c:\\users\\71\\miniconda3\\envs\\project\\lib\\site-packages (6.0.2)\n",
      "Requirement already satisfied: certifi>=2019.11.17 in c:\\users\\71\\miniconda3\\envs\\project\\lib\\site-packages (from pinecone) (2025.1.31)\n",
      "Requirement already satisfied: pinecone-plugin-interface<0.0.8,>=0.0.7 in c:\\users\\71\\miniconda3\\envs\\project\\lib\\site-packages (from pinecone) (0.0.7)\n",
      "Requirement already satisfied: python-dateutil>=2.5.3 in c:\\users\\71\\miniconda3\\envs\\project\\lib\\site-packages (from pinecone) (2.9.0.post0)\n",
      "Requirement already satisfied: typing-extensions>=3.7.4 in c:\\users\\71\\miniconda3\\envs\\project\\lib\\site-packages (from pinecone) (4.13.2)\n",
      "Requirement already satisfied: urllib3>=1.26.0 in c:\\users\\71\\miniconda3\\envs\\project\\lib\\site-packages (from pinecone) (2.4.0)\n",
      "Requirement already satisfied: six>=1.5 in c:\\users\\71\\miniconda3\\envs\\project\\lib\\site-packages (from python-dateutil>=2.5.3->pinecone) (1.17.0)\n",
      "Note: you may need to restart the kernel to use updated packages.\n"
     ]
    }
   ],
   "source": [
    "%pip install pinecone"
   ]
  },
  {
   "cell_type": "code",
   "execution_count": 10,
   "id": "8d514782",
   "metadata": {},
   "outputs": [],
   "source": [
    "from pinecone import Pinecone\n",
    "import os\n",
    "from dotenv import load_dotenv\n",
    "\n",
    "load_dotenv()\n",
    "api_key = os.getenv('PINECONE_API_KEY')\n",
    "pc = Pinecone(api_key=api_key)"
   ]
  },
  {
   "cell_type": "code",
   "execution_count": null,
   "id": "06997662",
   "metadata": {},
   "outputs": [
    {
     "data": {
      "text/plain": [
       "<langchain_pinecone.vectorstores.PineconeVectorStore at 0x278b2aabf10>"
      ]
     },
     "execution_count": 12,
     "metadata": {},
     "output_type": "execute_result"
    }
   ],
   "source": [
    "from langchain_pinecone import PineconeVectorStore\n",
    "\n",
    "database = PineconeVectorStore.from_documents(\n",
    "    documents=document_list,\n",
    "    embedding=embedding,\n",
    "    index_name='law-index',\n",
    ")\n",
    "\n",
    "database"
   ]
  },
  {
   "cell_type": "code",
   "execution_count": 14,
   "id": "d0fa89f5",
   "metadata": {},
   "outputs": [
    {
     "data": {
      "text/plain": [
       "23"
      ]
     },
     "execution_count": 14,
     "metadata": {},
     "output_type": "execute_result"
    }
   ],
   "source": [
    "len(document_list)"
   ]
  },
  {
   "cell_type": "code",
   "execution_count": 13,
   "id": "576cd464",
   "metadata": {},
   "outputs": [
    {
     "data": {
      "text/plain": [
       "AIMessage(content='전세사기피해자에 대한 금융지원은 다음과 같은 방식으로 이루어집니다:\\n\\n1. **융자 지원**: 국가 및 지방자치단체는 전세사기피해자 및 특정 요건을 갖춘 임차인에게 긴급한 주거안정을 보호하기 위해 필요한 자금을 융자할 수 있습니다. 이는 피해자들이 주거 문제로 인한 금융 부담을 줄이고 안정적인 생활을 유지할 수 있도록 도와줍니다.\\n\\n2. **우선변제 미수령자 지원**: 주택도시기금에서 주택 임대차에 필요한 자금을 융자할 수 있으며, 이 경우 「주택임대차보호법」에 따라 우선변제를 받지 못한 전세사기피해자가 시급한 지원이 필요하다고 인정되는 경우에 적용됩니다.\\n\\n3. **신용 정보 보호**: 전세사기피해자의 대출에 관련하여 모든 보증금이 변제되지 않은 경우, 신용정보집중관리위원회를 통해 해당 대출에 대한 채무 불이행 및 대위변제의 등록을 유예하거나 삭제할 수 있습니다. 이는 피해자가 경제적으로 다시 설 수 있도록 신용 회복을 지원하는 조치입니다.\\n\\n4. **주택저당채권대상 확대**: 「한국주택금융공사법」에 따른 주택저당채권대상에 주거 목적으로 사용되는 오피스텔도 포함되어, 전세사기피해자 등이 보다 다양한 주거 옵션을 마련할 수 있도록 지원됩니다.\\n\\n이러한 금융지원 방안은 전세사기피해자가 겪는 금융적 부담을 완화하고 주거 안정성을 확보하기 위해 마련된 조치들입니다.', additional_kwargs={'refusal': None}, response_metadata={'token_usage': {'completion_tokens': 381, 'prompt_tokens': 4160, 'total_tokens': 4541, 'completion_tokens_details': {'accepted_prediction_tokens': 0, 'audio_tokens': 0, 'reasoning_tokens': 0, 'rejected_prediction_tokens': 0}, 'prompt_tokens_details': {'audio_tokens': 0, 'cached_tokens': 0}}, 'model_name': 'gpt-4o-2024-08-06', 'system_fingerprint': 'fp_07871e2ad8', 'id': 'chatcmpl-BecjnME1AW6n5wcISeFzF4QTS029G', 'finish_reason': 'stop', 'logprobs': None}, id='run--d0dc3914-de00-467c-8601-9f1eedc6d650-0', usage_metadata={'input_tokens': 4160, 'output_tokens': 381, 'total_tokens': 4541, 'input_token_details': {'audio': 0, 'cache_read': 0}, 'output_token_details': {'audio': 0, 'reasoning': 0}})"
      ]
     },
     "execution_count": 13,
     "metadata": {},
     "output_type": "execute_result"
    }
   ],
   "source": [
    "\n",
    "## 3. 질문이 있으면, 벡터 데이터베이스에서 유사도 검색  \n",
    "\n",
    "## 3.1. 사용자 질문\n",
    "query = '전세사기피해자 금융지원에 대해 설명해주세요.'\n",
    "\n",
    "## 3.2. 벡터 데이터베이스에서 유사도 검색\n",
    "retrieved_docs = database.similarity_search(query=query)\n",
    "\n",
    "## 4.0 유사도 검색으로 가져온 문서를 LLM에 질문과 같이 전달 #########\n",
    "\n",
    "## 4.1. 프롬프트 작성\n",
    "\n",
    "prompt = '''\n",
    "[identity]\n",
    "- 당신은 전세사기피해 법률 전문가입니다.\n",
    "- [context]를 참고하여사용자의 질문에 답변해주세요.\n",
    "\n",
    "[context]\n",
    "{retrieved_docs}\n",
    "\n",
    "Question: {query}\n",
    "'''\n",
    "## 4.2. 프롬프트 변수에 값 설정\n",
    "formatted_prompt = prompt.format(\n",
    "    retrieved_docs=retrieved_docs,\n",
    "    query=query,)\n",
    "\n",
    "## 4.3. LLM 모델 생성(chatOpenAI 인스턴스 생성)  \n",
    "llm = ChatOpenAI(model='gpt-4o')\n",
    "\n",
    "## 4.4. LLM 모델에 질문과 검색된 문서를 보냄  \n",
    "ai_message = llm.invoke(formatted_prompt)\n",
    "ai_message"
   ]
  },
  {
   "cell_type": "code",
   "execution_count": 15,
   "id": "ace7b10a",
   "metadata": {},
   "outputs": [
    {
     "data": {
      "text/plain": [
       "[Document(id='5388f660-5158-4747-ad60-3e394d784ee0', metadata={'source': 'law_1.docx'}, page_content='전세사기피해자 지원 및 주거안정에 관한 특별법 ( 약칭: 전세사기피해자법 )\\n\\n[시행 2024. 11. 11.] [법률 제20429호, 2024. 9. 10., 일부개정]\\n\\n\\n\\n국토교통부(피해지원총괄과) 044-201-5233, 5234\\n\\n\\n\\n       제1장 총칙 \\n\\n제1조(목적) 이 법은 전세사기로 피해를 입은 임차인에게 경ㆍ공매 절차 및 조세 징수 등에 관한 특례를 부여함으로써 전세사기피해자를 지원하고 주거안정을 도모함을 목적으로 한다.\\n\\n제2조(정의) 이 법에서 사용하는 용어의 정의는 다음과 같다. <개정 2024. 9. 10.>\\n\\n  1. “주택”이란 「주택임대차보호법」 제2조에 따른 주거용 건물(공부상 주거용 건물이 아니라도 임대차계약 체결 당시 임대차목적물의 구조와 실질이 주거용 건물이고 임차인의 실제 용도가 주거용인 경우를 포함한다)을 말한다.\\n\\n  2. “임대인등”이란 임대인 또는 다음 각 목의 어느 하나에 해당하는 자를 말한다.\\n\\n    가. 임대인의 대리인, 그 밖에 임대인을 위하여 주택의 임대에 관하여 업무를 처리하는 자\\n\\n    나. 임대인의 의뢰를 받은 공인중개사(중개보조인을 포함한다)\\n\\n    다. 임대인을 위하여 임차인을 모집하는 자(그 피고용인을 포함한다)\\n\\n    라. 다수 임대인의 배후에 있는 동일인\\n\\n    마. 라목의 동일인이 지배하거나 경제적 이익을 공유하는 조직\\n\\n    바. 라목의 동일인이나 마목의 조직을 배후에 둔 다수의 임대인\\n\\n  3. “전세사기피해자”란 제3조의 요건을 모두 갖춘 자로서 제6조에 따른 전세사기피해지원위원회의 심의ㆍ의결을 거쳐 국토교통부장관이 결정한 임차인을 말한다.\\n\\n  4. “전세사기피해자등”이란 다음 각 목의 어느 하나에 해당하는 자를 말한다.\\n\\n    가. 전세사기피해자\\n\\n    나. 제3조제1항제1호ㆍ제3호 및 제4호의 요건을 모두 충족하는 자(같은 조 제2항 각 호의 어느 하나에 해당하는 경우는 제외한다)로서 제6조에 따른 전세사기피해지원위원회의 심의ㆍ의결을 거쳐 국토교통부장관이 결정한 임차인\\n\\n    다. 제3조제1항제2호 및 제4호의 요건을 모두 충족하고 임차인으로서 임차주택(적법한 임대권한을 가지지 아니한 자와 임대차계약이 체결된 주택을 포함한다)을 인도(과거에 인도받았거나 인도가 불가능하였던 경우를 포함한다)받았으며, 「주민등록법」 제16조에 따라 전입신고를 하고 그 임대차계약증서상의 확정일자를 받은 자(제3조제2항 각 호의 어느 하나에 해당하는 경우는 제외한다)로서 제6조에 따른 전세사기피해지원위원회의 심의ㆍ의결을 거쳐 국토교통부장관이 결정한 임차인\\n\\n  5. “전세사기피해주택”이란 전세사기피해자가 임차인인 임대차계약의 목적물인 주택(「주택임대차보호법」 제3조의3에 따라 임대차가 끝난 후 임차권등기를 마친 주택도 포함한다)을 말한다.\\n\\n  6. “특정건축물”이란 다음 각 목의 어느 하나에 해당하는 건축물을 말한다.'),\n",
       " Document(id='aa94be70-82d5-47da-b412-ccb8f4925df4', metadata={'source': 'law_1.docx'}, page_content='② 국가는 제1항에 따른 경매 및 공매의 지원서비스 제공에 필요한 비용의 일부를 「주택도시기금법」 제9조에 따라 지원할 수 있다.\\n\\n제27조(금융지원 등) ① 국가 및 지방자치단체는 전세사기피해자 및 제2조제4호다목에 따른 임차인의 긴박한 주거안정을 보호하기 위하여 필요한 자금을 융자하거나 그 밖에 필요한 지원을 할 수 있다.\\n\\n  ② 국가는 「주택임대차보호법」 제8조에 따른 우선변제를 받지 못하여 시급한 지원이 필요하다고 인정되는 전세사기피해자에게 주택도시기금에서 주택의 임대차에 필요한 자금을 융자할 수 있다. <개정 2024. 9. 10.>\\n\\n  ③ 「한국자산관리공사 설립 등에 관한 법률」에 따른 금융회사등은 전세사기피해자등의 보증금이 모두 변제되지 아니한 경우 「신용정보의 이용 및 보호에 관한 법률」 제25조에 따른 신용정보집중기관이 같은 법 제26조의 신용정보집중관리위원회를 통하여 정한 기준에 따라 이들의 해당 전세 관련 대출에 대한 채무의 불이행 및 대위변제의 등록을 유예하거나 삭제할 수 있다. <개정 2024. 9. 10.>\\n\\n  ④ 전세사기피해자 및 제2조제4호다목에 따른 임차인에 대하여는 「한국주택금융공사법」 제2조제3호의 주택저당채권대상에 「주택법」 제2조제4호에 따른 준주택 중 주거목적으로 사용되는 오피스텔을 포함한다. <신설 2024. 9. 10.>\\n\\n제28조(「긴급복지지원법」에 대한 특례) ① 전세사기피해자, 제2조제4호다목에 따른 임차인 또는 그 임차인(전세사기피해자를 포함한다)과 생계 및 주거를 같이 하고 있는 가구의 구성원은 「긴급복지지원법」 제5조에 따른 긴급지원대상자로 본다.\\n\\n  ② 제1항에 따른 지원의 기준ㆍ기간ㆍ종류ㆍ방법 및 절차 등에 필요한 사항은 「긴급복지지원법」에 따른다.\\n\\n제28조의2(전세사기피해주택의 안전관리 및 감독) ① 전세사기피해주택의 소재지를 관할하는 지방자치단체의 장은 「공동주택관리법」 제34조 및 제93조제1항을 준용하여 전세사기피해주택의 안전관리 및 감독 업무를 수행할 수 있다.\\n\\n  ② 지방자치단체의 장은 전세사기피해주택의 임대인등이 소재불명 또는 연락두절 등으로 안전 확보 및 피해 복구가 시급한 경우 다음 각 호의 어느 하나에 해당하는 조치를 할 수 있다.\\n\\n  1. 전세사기피해주택의 관리 현황 및 피해 조사, 그에 따른 조치\\n\\n  2. 전세사기피해주택의 공공위탁관리\\n\\n  ③ 지방자치단체의 장은 그 지방자치단체의 조례로 정하는 바에 따라 제2항 각 호의 시행을 위하여 필요한 비용의 일부를 지원할 수 있다.\\n\\n  ④ 제1항부터 제3항까지에 따른 전세사기피해주택의 안전관리 및 감독, 전세사기피해주택 관리 현황 조사 및 조치, 공공위탁관리 및 비용지원 등에 필요한 사항은 해당 지방자치단체의 조례로 정한다.\\n\\n  [본조신설 2024. 9. 10.]\\n\\n제28조의3(「국가공무원법」 및 「지방공무원법」에 관한 특례) 전세사기피해자등에 대하여는 「국가공무원법」 제33조제2호 및 「지방공무원법」 제31조제2호를 적용하지 아니한다.\\n\\n  [본조신설 2024. 9. 10.]'),\n",
       " Document(id='96e389cc-92aa-4849-a052-5092f9e8caaa', metadata={'source': 'law_1.docx'}, page_content='⑤ 제4항에 따라 전세사기피해주택을 취득하는 데 소요되는 비용은 「공공주택 특별법」 제43조에 따른 공공주택사업자의 기존주택등 매입의 예에 따라 국가 또는 지방자치단체가 재정이나 「주택도시기금법」에 따른 주택도시기금(이하 “주택도시기금”이라 한다)으로 지원한다. <신설 2024. 9. 10.>\\n\\n  ⑥ 공공주택사업자는 제4항에 따라 취득하는 데 소요되는 비용과 「공공주택 특별법」 제43조에 따라 매입하였을 때 소요되었을 금액에 차액이 발생한 경우에는 이를 전세사기피해자의 공공임대주택 거주에 따른 임대료로 사용하여야 한다. <신설 2024. 9. 10.>\\n\\n  ⑦ 국가 또는 지방자치단체는 제6항에 따른 차액이 제4항에 따른 거주기간 동안 전세사기피해자가 납부하여야 할 임대료에 미치지 못할 경우에는 대통령령으로 정하는 바에 따라 재정으로 이를 지원할 수 있다. <신설 2024. 9. 10.>\\n\\n  ⑧ 공공주택사업자는 전세사기피해자가 제4항에 따라 우선 공급된 공공임대주택에서 이주하는 경우(이미 이주한 경우를 포함한다) 다음 각 호의 어느 하나에 해당하는 방법으로 지원할 수 있다. <신설 2024. 9. 10.>\\n\\n  1. 이주하는 지역에 있는 공공임대주택 중 제4항에 따라 공급된 주택과 유사한 수준 이상의 공공임대주택(「공공주택 특별법」 제45조의2에 따라 기존주택을 임차하여 공공임대주택으로 공급하는 경우를 포함한다)의 우선 공급, 제6항 및 제7항에 따른 임대료 지원\\n\\n  2. 제6항에 따른 차액에서 거주기간 동안의 임대료 지원액을 차감하고 남은 금액의 지급\\n\\n  ⑨ 전세사기피해자가 제4항에 따라 10년간 거주하였을 경우에는 다음 각 호의 어느 하나에 해당하는 방법으로 지원할 수 있다. <신설 2024. 9. 10.>\\n\\n  1. 「공공주택 특별법」 제49조에 따른 임대료 수준으로 해당 주택 거주기간 최장 10년 연장\\n\\n  2. 제6항에 따른 차액에서 10년간 임대료 지원액을 차감하고 남은 금액의 지급\\n\\n  ⑩ 제6항부터 제9항까지에 따른 지원액의 총합은 전세사기피해자의 임차보증금에서 「주택임대차보호법」에 따라 대항력 또는 우선변제권을 행사하고 받은 금액과 임차보증금반환채권을 통하여 변제받은 금액을 제외한 금액을 넘을 수 없다. <신설 2024. 9. 10.>\\n\\n  ⑪ 공공주택사업자는 제2항에도 불구하고 국토교통부장관이 정하는 바에 따라 「민사집행법」에 따른 경매, 「국세징수법」 또는 「지방세징수법」에 따른 공매 외의 방법으로 전세사기피해주택을 매입할 수 있다. <신설 2024. 9. 10.>\\n\\n  ⑫ 공공주택사업자는 전세사기피해주택의 매입을 위하여 필요한 경우 제14조제7항에 따라 전세사기피해자 정보의 제공을 국토교통부장관에게 요청할 수 있다. <개정 2024. 9. 10.>\\n\\n  ⑬ 공공주택사업자에 대한 재정 지원에 필요한 사항은 대통령령으로 정하며, 전세사기피해주택의 매입기준, 임대조건 등은 국토교통부장관이 정하는 바에 따른다. <개정 2024. 9. 10.>'),\n",
       " Document(id='66e425ec-1a15-4832-bfd9-45a3e6412434', metadata={'source': 'law_1.docx'}, page_content='5. “전세사기피해주택”이란 전세사기피해자가 임차인인 임대차계약의 목적물인 주택(「주택임대차보호법」 제3조의3에 따라 임대차가 끝난 후 임차권등기를 마친 주택도 포함한다)을 말한다.\\n\\n  6. “특정건축물”이란 다음 각 목의 어느 하나에 해당하는 건축물을 말한다.\\n\\n    가. 「건축법」 제11조 또는 제14조에 따라 건축허가를 받거나 건축신고를 하여야 하는 건축물을 건축허가를 받지 아니하거나 건축신고를 하지 아니하고 건축하거나 대수선한 건축물\\n\\n    나. 「건축법」 제11조 또는 제14조에 따라 건축허가를 받거나 건축신고를 하고 건축하거나 대수선한 건축물로서 같은 법 제22조에 따른 사용승인을 받지 못한 건축물\\n\\n    다. 「건축법」 제19조에 따른 용도변경 허가를 받지 아니하거나 신고를 하지 아니한 건축물\\n\\n제3조(전세사기피해자의 요건) ① 제14조에 따라 전세사기피해자로 결정받고자 하는 임차인(자연인에 한정한다. 이하 같다)은 다음 각 호의 요건을 모두 갖추어야 한다. 다만, 경매 또는 공매 절차가 완료된 임차인의 경우에는 제1호 및 제3호의 요건은 제외한다. <개정 2024. 9. 10.>\\n\\n  1. 「주택임대차보호법」 제3조에 따라 주택의 인도와 주민등록을 마치고(이 경우 전입신고를 한 때 주민등록을 한 것으로 본다) 같은 법 제3조의2제2항에 따라 임대차계약증서상의 확정일자(이하 “확정일자”라 한다)를 갖출 것(「주택임대차보호법」 제3조의3에 따른 임차권등기를 마친 경우 또는 「민법」 제303조에 따른 전세권이 설정된 경우도 포함한다)\\n\\n  2. 임차인의 임차보증금이 5억원 이하일 것. 다만, 임차보증금의 상한액은 제6조에 따른 전세사기피해지원위원회가 시ㆍ도별 여건 및 피해자의 여건 등을 고려하여 2억원의 범위에서 상향 조정할 수 있다.\\n\\n  3. 임대인의 파산 또는 회생절차 개시, 임차주택의 경매 또는 공매절차의 개시(국세 또는 지방세의 체납으로 인하여 임차주택이 압류된 경우도 포함한다), 임차인의 집행권원 확보 등에 해당하여 2인 이상의 임차인에게 임차보증금반환채권의 변제를 받지 못하는 피해가 발생하였거나 발생할 것이 예상될 것\\n\\n  4. 임대인등에 대한 수사 개시, 임대인등의 기망, 임차보증금을 반환할 능력이 없는 자에 대한 임차주택의 양도 또는 임차보증금을 반환할 능력 없이 다수의 주택 취득ㆍ임대 등 임대인이 임차보증금반환채무를 이행하지 아니할 의도가 있었다고 의심할 만한 상당한 이유가 있을 것\\n\\n  ② 다음 각 호의 어느 하나에 해당하는 경우는 제1항의 적용대상에서 제외한다.\\n\\n  1. 임차인이 임차보증금 반환을 위한 보증 또는 보험에 가입하였거나 임대인이 임차보증금 반환을 위한 보증에 가입하여 임차인에게 보증금의 전액 반환이 가능한 경우\\n\\n  2. 임차인의 보증금 전액이 최우선변제가 가능한 「주택임대차보호법」 제8조제1항에 따른 보증금 중 일정액에 해당하는 경우\\n\\n  3. 임차인이 「주택임대차보호법」에 따라 대항력 또는 우선변제권 행사를 통하여 보증금 전액을 자력으로 회수할 수 있다고 판단되는 경우')]"
      ]
     },
     "execution_count": 15,
     "metadata": {},
     "output_type": "execute_result"
    }
   ],
   "source": [
    "retrieved_docs"
   ]
  },
  {
   "cell_type": "code",
   "execution_count": 16,
   "id": "a24860fb",
   "metadata": {},
   "outputs": [
    {
     "data": {
      "text/plain": [
       "4"
      ]
     },
     "execution_count": 16,
     "metadata": {},
     "output_type": "execute_result"
    }
   ],
   "source": [
    "len(retrieved_docs)"
   ]
  }
 ],
 "metadata": {
  "kernelspec": {
   "display_name": "project",
   "language": "python",
   "name": "python3"
  },
  "language_info": {
   "codemirror_mode": {
    "name": "ipython",
    "version": 3
   },
   "file_extension": ".py",
   "mimetype": "text/x-python",
   "name": "python",
   "nbconvert_exporter": "python",
   "pygments_lexer": "ipython3",
   "version": "3.10.12"
  }
 },
 "nbformat": 4,
 "nbformat_minor": 5
}
