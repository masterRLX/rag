{
 "cells": [
  {
   "cell_type": "markdown",
   "id": "d1ebb970",
   "metadata": {},
   "source": [
    "## 파인콘 벡터 DB 저장\n",
    "**A**"
   ]
  },
  {
   "cell_type": "code",
   "execution_count": 1,
   "id": "58ca3b48",
   "metadata": {},
   "outputs": [
    {
     "name": "stdout",
     "output_type": "stream",
     "text": [
      "Interactive namespace is empty.\n"
     ]
    }
   ],
   "source": [
    "%whos"
   ]
  },
  {
   "cell_type": "code",
   "execution_count": 2,
   "id": "732fbaa1",
   "metadata": {},
   "outputs": [
    {
     "name": "stderr",
     "output_type": "stream",
     "text": [
      "c:\\Users\\71\\miniconda3\\envs\\project\\lib\\site-packages\\tqdm\\auto.py:21: TqdmWarning: IProgress not found. Please update jupyter and ipywidgets. See https://ipywidgets.readthedocs.io/en/stable/user_install.html\n",
      "  from .autonotebook import tqdm as notebook_tqdm\n"
     ]
    }
   ],
   "source": [
    "from dotenv import load_dotenv\n",
    "from dotenv import load_dotenv\n",
    "from langchain_openai import OpenAIEmbeddings, ChatOpenAI\n",
    "from langchain_chroma import Chroma\n",
    "from langchain_text_splitters import RecursiveCharacterTextSplitter \n",
    "from langchain_community.document_loaders import Docx2txtLoader\n",
    "from langchain_pinecone import PineconeVectorStore\n",
    "from pinecone import Pinecone\n",
    "import os\n",
    "\n",
    "## 1. 문서 내용 읽고 분할\n",
    "loader = Docx2txtLoader('law_2.docx') #인스턴스 생성 #문서 확인\n",
    "\n",
    "text_splitter = RecursiveCharacterTextSplitter(  #분할을 하기위한 설정\n",
    "    chunk_size=1500,\n",
    "    chunk_overlap=200,\n",
    ") #나중에 여러번의 질문을 통해 정확도를 확인\n",
    "document_list = loader.load_and_split(text_splitter=text_splitter) #파일을 갖고 파라미터에 설정된 읽고 분할\n",
    "\n",
    "## 2. 임베딩 -> 벡터 데이터베이스에 저장 \n",
    "## 2.1. 환경변수 읽어오기\n",
    "load_dotenv() #잘 읽어왔다는 True\n",
    "\n",
    "## 2.2. 임베딩 모델 지정\n",
    "embedding = OpenAIEmbeddings(model='text-embedding-3-large') #성능 좋은 유료  # 위에서 OPENAI_API_KEY 읽었기 때문에 \n"
   ]
  },
  {
   "cell_type": "code",
   "execution_count": 3,
   "id": "fa4e6ad4",
   "metadata": {},
   "outputs": [
    {
     "data": {
      "text/plain": [
       "<pinecone.control.pinecone.Pinecone at 0x20d8c2a3730>"
      ]
     },
     "execution_count": 3,
     "metadata": {},
     "output_type": "execute_result"
    }
   ],
   "source": [
    "\n",
    "# # ## 2.3. 벡터 데이터베이스에 저장 ########한번 실행했기 때문에\n",
    "##[방법 1] in memory\n",
    "# database = Chroma.from_documents(\n",
    "#     documents=document_list,\n",
    "#     embedding=embedding,\n",
    "#     persist_directory='./chroma',\n",
    "#     collection_name='chroma-law',\n",
    "# )\n",
    "\n",
    "## 로컬에 저장된 임베딩 데이터 가져오기\n",
    "\n",
    "# database =Chroma(\n",
    "#     collection_name='chroma-law',\n",
    "#     persist_directory='./chroma',\n",
    "#     embedding_function=embedding,\n",
    "# )\n",
    "\n",
    "##[방법 2] pinecone: server\n",
    "api_key = os.getenv('PINECONE_API_KEY')\n",
    "pc = Pinecone(api_key=api_key)\n",
    "pc\n"
   ]
  },
  {
   "cell_type": "code",
   "execution_count": 4,
   "id": "8888956a",
   "metadata": {},
   "outputs": [
    {
     "data": {
      "text/plain": [
       "<langchain_pinecone.vectorstores.PineconeVectorStore at 0x20d9aa104c0>"
      ]
     },
     "execution_count": 4,
     "metadata": {},
     "output_type": "execute_result"
    }
   ],
   "source": [
    "\n",
    "database = PineconeVectorStore.from_documents(\n",
    "    documents=document_list,\n",
    "    embedding=embedding,\n",
    "    index_name='law-2',\n",
    ")\n",
    "\n",
    "database"
   ]
  },
  {
   "cell_type": "code",
   "execution_count": 9,
   "id": "19d7686d",
   "metadata": {},
   "outputs": [
    {
     "data": {
      "text/plain": [
       "'전세사기피해자 지원 및 주거안정에 관한 특별법 시행령 ( 약칭: 전세사기피해자법 시행령 )\\n\\n[시행 2024. 11. 11.] [대통령령 제34987호, 2024. 11. 8., 일부개정]\\n\\n\\n\\n국토교통부(피해지원총괄과) 044-201-5233, 5234\\n\\n\\n\\n제1조(목적) 이 영은 「전세사기피해자 지원 및 주거안정에 관한 특별법」에서 위임된 사항과 그 시행에 필요한 사항을 규정함을 목적으로 한다.\\n\\n제2조(전세사기피해지원단) ① 「전세사기피해자 지원 및 주거안정에 관한 특별법」(이하 “법”이라 한다) 제10조제1항에 따른 전세사기피해지원단(이하 “지원단”이라 한다)은 단장 1명과 단원으로 구성한다.\\n\\n  ② 지원단의 단장은 국토교통부의 고위공무원단에 속하는 일반직공무원 중에서 국토교통부장관이 지명하는 사람이 된다.\\n\\n  ③ 지원단의 단장은 국토교통부장관의 명을 받아 지원단의 업무를 총괄하고, 지원단의 단원을 지휘ㆍ감독한다.\\n\\n  ④ 제1항부터 제3항까지에서 규정한 사항 외에 지원단의 구성 및 운영 등에 필요한 사항은 국토교통부장관이 정한다.\\n\\n제3조(국세의 안분 방법 및 신청 등) ① 법 제23조제1항 각 호 외의 부분 전단에 따라 안분하여 징수하는 전세사기피해주택 임대인의 국세는 다음 각 호의 구분에 따라 산정한다.\\n\\n  1. 상속세, 증여세 및 종합부동산세의 경우: 고지 또는 신고 건별로 각각 가목에 따라 계산한 금액과 나목의 금액 중 큰 금액\\n\\n    가. 다음의 계산식에 따라 계산한 금액\\n\\n  \\n\\nA × (B / C)\\n\\n- **A**: 전세사기피해주택의 임대인이 체납한 고지 또는 신고 건별 국세 금액  \\n\\n- **B**: 전세사기피해주택의 가격  \\n\\n- **C**: 전세사기피해주택의 임대인이 보유한 모든 주택의 가격 합계액  \\n\\n\\n\\n\\n\\n    나. 전세사기피해주택의 임대인이 체납한 고지 또는 신고 건별 국세 금액 중 「국세기본법」 제35조제3항에 따른 해당 재산에 대하여 부과된 국세 금액\\n\\n  2. 상속세, 증여세 및 종합부동산세 외의 국세의 경우: 고지 또는 신고 건별로 각각 제1호가목에 따라 계산한 금액\\n\\n  ② 제1항제1호가목의 계산식에서 “전세사기피해주택의 임대인이 보유한 모든 주택의 가격 합계액”은 법 제23조제3항 전단에 따라 안분 적용 신청을 한 날이 속하는 연도의 직전 연도의 「지방세법」 제114조에 따른 과세기준일(이하 “국세 안분 과세기준일”이라 한다)에 전세사기피해주택의 임대인이 소유하고 있었던 주택의 같은 법 제4조제1항 및 제2항에 따른 시가표준액(같은 법 제110조제1항에 따라 주택에 대한 재산세의 과세표준 산정에 적용된 시가표준액을 말한다. 이하 “시가표준액”이라 한다)을 합산한 금액으로 한다.🤷\\u200d♀️🤷\\u200d♀️\\n\\n1. 「민사집행법」에 따른 경매, 「국세징수법」 또는 「지방세징수법」에 따른 공매 절차에서 「공공주택 특별법」 제4조제1항제2호 또는 제3호에 따른 공공주택사업자(이하 “공공주택사업자”라 한다)가 납부하는 매각대금 또는 매수대금\\n\\n  2. 전세사기피해주택의 공용부분에 대한 전세사기피해자의 미납 사용료 및 관리비\\n\\n  ② 법 제25조제6항에 따른 차액을 산정하는 경우 「공공주택 특별법」 제43조에 따라 매입하였을 때 소요되었을 금액은 「감정평가 및 감정평가사에 관한 법률」에 따른 감정평가법인등(이하 “감정평가법인등”이라 한다) 2인이 평가한 금액의 산술평균치로 한다. 이 경우 감정평가법인등은 공공주택사업자의 요청에 따라 「감정평가 및 감정평가사에 관한 법률」 제33조에 따른 한국감정평가사협회가 추천한 4인 이상의 감정평가법인등 중에서 공공주택사업자와 전세사기피해자가 각각 1인씩 선정한다.\\n\\n  ③ 국가 또는 지방자치단체는 법 제25조제7항에 따라 임대료를 재정으로 지원하는 경우에는 전세사기피해자가 같은 조 제4항에 따른 거주기간 동안 납부해야 하는 임대료에서 같은 조 제6항에 따른 차액을 공제한 금액을 전액 지원한다. 다만, 공공주택사업자가 전세사기피해자의 요청에 따라 제2항 전단에 따른 산술평균치로 전세사기피해주택을 매입한 경우로서 제1호의 금액이 제2호의 금액보다 큰 경우에는 제1호의 금액에서 제2호의 금액을 뺀 금액을 지원하지 않을 수 있다.\\n\\n  1. 전세사기피해주택 매입금액\\n\\n  2. 전세사기피해주택이 소재하는 지역의 주택으로서 전세사기피해주택과 면적 및 권리관계 등이 유사한 주택의 평균 낙찰가격 등을 고려하여 국토교통부장관이 정하는 기준에 따라 산정한 금액\\n\\n  ④ 공공주택사업자는 법 제25조제7항에 따라 전세사기피해자가 납부해야 할 임대료를 재정으로 지원받으려는 경우에는 국토교통부장관 또는 지방자치단체의 장에게 재정 지원 대상 전세사기피해자의 현황 및 금액에 관한 자료를 매년 2월 말일까지 제출해야 한다.\\n\\n  ⑤ 제1항부터 제4항까지에서 규정한 사항 외에 공공주택사업자에 대한 재정 지원에 필요한 사항은 국토교통부장관이 정한다.\\n\\n  [본조신설 2024. 11. 8.]\\n\\n제4조의3(공공임대주택의 우선 공급에 따른 재정 지원) ① 국가 또는 지방자치단체는 법 제25조의2제2항에 따라 감면된 임대료에 해당하는 비용을 재정으로 지원하는 경우에는 같은 조 제1항에 따라 임차인이 공공임대주택에 거주하는 기간 동안 납부해야 하는 임대료 중 감면된 금액을 전액 지원한다.\\n\\n  ② 공공주택사업자는 법 제25조의2제2항에 따라 감면된 임대료에 해당하는 비용을 재정으로 지원받으려는 경우에는 국토교통부장관 또는 지방자치단체의 장에게 재정 지원 대상 임차인의 현황 및 금액에 관한 자료를 매년 2월 말일까지 제출해야 한다.\\n\\n  ③ 제1항 및 제2항에서 규정한 사항 외에 공공주택사업자에 대한 재정 지원에 필요한 사항은 국토교통부장관이 정한다.\\n\\n  [본조신설 2024. 11. 8.]'"
      ]
     },
     "execution_count": 9,
     "metadata": {},
     "output_type": "execute_result"
    }
   ],
   "source": [
    "\n",
    "\n",
    "\n",
    "## 3. 질문이 있으면, 벡터 데이터베이스(vector_store)에서 유사도 검색\n",
    "\n",
    "## 3.1. 사용자 질문\n",
    "# query = '오늘 서울 날씨는?'\n",
    "# query = '전세사기 피해자는 누구인가요? '\n",
    "# query = '전세사기 피해주택 임대인의 국세 계산은 어떻게 하나요?'\n",
    "query = '전세사기 피해 주택의 가격은?'\n",
    "\n",
    "## 3.2. 벡터 데이터베이스에서 유사도 검색 (점수 포함)\n",
    "retrieved_docs = database.similarity_search(query=query, k=2)\n",
    "\n",
    "## 문서 객체에서 문자열만 추출\n",
    "\n",
    "\n",
    "\n",
    "## 3.3 문서 객체 -> 하나의 문자열\n",
    "## 리스트 for 문\n",
    "context = '🤷‍♀️🤷‍♀️\\n\\n'.join([doc.page_content for doc in retrieved_docs])\n",
    "context\n",
    "\n"
   ]
  },
  {
   "cell_type": "code",
   "execution_count": null,
   "id": "c629256c",
   "metadata": {},
   "outputs": [],
   "source": [
    "retrieved_docs"
   ]
  },
  {
   "cell_type": "code",
   "execution_count": 11,
   "id": "3e5a7461",
   "metadata": {},
   "outputs": [
    {
     "data": {
      "text/plain": [
       "'전세사기 피해 주택의 가격은 \"지방세법\" 제114조에 따른 과세기준일에 해당 주택의 소유자가 소유하고 있었던 주택의 \"지방세법\" 제4조제1항 및 제2항에 따른 시가표준액을 기준으로 산정됩니다. 이 시가표준액은 \"지방세법\" 제110조제1항에 따라 해당 주택에 대한 재산세의 과세표준 산정에 적용된 금액을 의미합니다.'"
      ]
     },
     "execution_count": 11,
     "metadata": {},
     "output_type": "execute_result"
    }
   ],
   "source": [
    "\n",
    "## 4.0 유사도 검색으로 가져온 문서를 LLM에 질문과 같이 전달 \n",
    "\n",
    "## 4.1. 프롬프트 작성\n",
    "prompt = '''\n",
    "[identity]\n",
    "- 당신은 전세사기 피해 법률 전문가입니다.\n",
    "- [context]를 참고하여 사용자의 질문에 답변해주세요.\n",
    "- 전세사기 피해 법률 이외의 질문에는 '답변을 할 수 없습니다.'로 답하세요.\n",
    "\n",
    "[context]\n",
    "{retrieved_docs}\n",
    "\n",
    "Question: {query}\n",
    "'''\n",
    "\n",
    "## 4.2. 프롬프트 변수에 값 설정\n",
    "formatted_prompt = prompt.format(\n",
    "    retrieved_docs=context,\n",
    "    query=query,\n",
    ")\n",
    "\n",
    "## 4.3. LLM 모델 생성(chatOpenAI 인스턴스 생성)  \n",
    "llm = ChatOpenAI(model='gpt-4o')\n",
    "\n",
    "## 4.4. LLM 모델에 질문과 검색된 문서를 보냄  \n",
    "ai_message = llm.invoke(formatted_prompt)\n",
    "ai_message.content"
   ]
  },
  {
   "cell_type": "code",
   "execution_count": null,
   "id": "dc9c077e",
   "metadata": {},
   "outputs": [],
   "source": [
    "retrieved_docs"
   ]
  },
  {
   "cell_type": "code",
   "execution_count": null,
   "id": "e1c843f6",
   "metadata": {},
   "outputs": [],
   "source": []
  }
 ],
 "metadata": {
  "kernelspec": {
   "display_name": "project",
   "language": "python",
   "name": "python3"
  },
  "language_info": {
   "codemirror_mode": {
    "name": "ipython",
    "version": 3
   },
   "file_extension": ".py",
   "mimetype": "text/x-python",
   "name": "python",
   "nbconvert_exporter": "python",
   "pygments_lexer": "ipython3",
   "version": "3.10.12"
  }
 },
 "nbformat": 4,
 "nbformat_minor": 5
}
