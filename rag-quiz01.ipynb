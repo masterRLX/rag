{
 "cells": [
  {
   "cell_type": "markdown",
   "id": "ca46afe3",
   "metadata": {},
   "source": [
    "#[문제]\n",
    "- law_2.docx 파일을 읽고, chroma 저장  \n",
    "- LLM질문 -> 답변  \n",
    "- 전세사기피해에 관한 법률 질문만 받기.\n",
    "- 이 외의 질문은 '답변을 할 수 없습니다.'"
   ]
  },
  {
   "cell_type": "code",
   "execution_count": 2,
   "id": "732fbaa1",
   "metadata": {},
   "outputs": [],
   "source": [
    "from dotenv import load_dotenv\n",
    "from langchain_openai import OpenAIEmbeddings, ChatOpenAI\n",
    "from langchain_chroma import Chroma\n",
    "from langchain_text_splitters import RecursiveCharacterTextSplitter\n",
    "from langchain_community.document_loaders import Docx2txtLoader"
   ]
  },
  {
   "cell_type": "code",
   "execution_count": 3,
   "id": "460e7ac7",
   "metadata": {},
   "outputs": [],
   "source": [
    "## 1. 문서 내용 읽고 분할\n",
    "loader = Docx2txtLoader('law_2.docx')\n",
    "\n",
    "text_splitter = RecursiveCharacterTextSplitter(\n",
    "    chunk_size=1500,\n",
    "    chunk_overlap=200,\n",
    ")\n",
    "document_list = loader.load_and_split(text_splitter=text_splitter)\n",
    "\n",
    "## 2. 임베딩 -> 벡터 데이터베이스에 저장 \n",
    "\n",
    "## 2.1. 환경변수 읽어오기\n",
    "load_dotenv()\n",
    "\n",
    "## 2.2. 임베딩 모델 지정\n",
    "embedding = OpenAIEmbeddings(model='text-embedding-3-large')\n"
   ]
  },
  {
   "cell_type": "code",
   "execution_count": 4,
   "id": "c63af906",
   "metadata": {},
   "outputs": [
    {
     "data": {
      "text/plain": [
       "<langchain_chroma.vectorstores.Chroma at 0x258217a7160>"
      ]
     },
     "execution_count": 4,
     "metadata": {},
     "output_type": "execute_result"
    }
   ],
   "source": [
    "# # ## 2.3. 벡터 데이터베이스에 저장\n",
    "# database = Chroma.from_documents(\n",
    "#     documents=document_list,\n",
    "#     embedding=embedding,\n",
    "#     persist_directory='./chroma',\n",
    "#     collection_name='chroma-law',\n",
    "# )\n",
    "\n",
    "## 로컬에 저장된 임베딩 데이터 가져오기\n",
    "\n",
    "database =Chroma(\n",
    "    collection_name='chroma-law',\n",
    "    persist_directory='./chroma',\n",
    "    embedding_function=embedding,\n",
    ")\n",
    "\n",
    "database\n"
   ]
  },
  {
   "cell_type": "code",
   "execution_count": 6,
   "id": "d524be7e",
   "metadata": {},
   "outputs": [
    {
     "data": {
      "text/plain": [
       "AIMessage(content='죄송하지만, 전세사기피해와 관련된 질문이라면 도와드릴 수 있습니다. 전세사기피해와 관련하여 궁금한 점이 있으시다면 말씀해 주세요!', additional_kwargs={'refusal': None}, response_metadata={'token_usage': {'completion_tokens': 44, 'prompt_tokens': 2955, 'total_tokens': 2999, 'completion_tokens_details': {'accepted_prediction_tokens': 0, 'audio_tokens': 0, 'reasoning_tokens': 0, 'rejected_prediction_tokens': 0}, 'prompt_tokens_details': {'audio_tokens': 0, 'cached_tokens': 2944}}, 'model_name': 'gpt-4o-2024-08-06', 'system_fingerprint': 'fp_07871e2ad8', 'id': 'chatcmpl-Bdwhcw05V1Myjt5lxCebItQIhMYMB', 'finish_reason': 'stop', 'logprobs': None}, id='run--1e7f40d3-8889-416e-a309-fe19c006a7ac-0', usage_metadata={'input_tokens': 2955, 'output_tokens': 44, 'total_tokens': 2999, 'input_token_details': {'audio': 0, 'cache_read': 2944}, 'output_token_details': {'audio': 0, 'reasoning': 0}})"
      ]
     },
     "execution_count": 6,
     "metadata": {},
     "output_type": "execute_result"
    }
   ],
   "source": [
    "## 3. 질문이 있으면, 벡터 데이터베이스에서 유사도 검색\n",
    "\n",
    "## 3.1. 사용자 질문\n",
    "query = '오늘 날씨는?'\n",
    "# query = '전세사기 피해자 지원 방법은? '\n",
    "\n",
    "## 3.2. 벡터 데이터베이스에서 유사도 검색 (점수 포함)\n",
    "retrieved_docs_with_score = database.similarity_search_with_score(query=query, k=3)\n",
    "\n",
    "## 3.3. 점수 필터링 (예: 0.8 이상만 유효한 문서로 간주)\n",
    "\n",
    "threshold = 0.8\n",
    "filtered_docs = [doc for doc, score in retrieved_docs_with_score if score >= threshold]\n",
    "\n",
    "## 4.0 유사도 검색으로 가져온 문서를 LLM에 질문과 같이 전달 \n",
    "\n",
    "## 4.1. 프롬프트 작성\n",
    "if not filtered_docs:\n",
    "    print('답변을 할 수 없습니다.')\n",
    "    exit()\n",
    "    \n",
    "else:\n",
    "    prompt = '''\n",
    "    [identity]\n",
    "    - 당신은 전세사기피해 법률 전문가 입니다.\n",
    "    - [context]를 참고하여 사용자의 질문에 답변해주세요.\n",
    "\n",
    "    [context]\n",
    "    {retrieved_docs}\n",
    "\n",
    "    Question: {query}\n",
    "    '''\n",
    "    ## 4.2 프롬프트 변수에 값 설정\n",
    "    formatted_prompt = prompt.format(\n",
    "        retrieved_docs = \"\\n\\n\".join([doc.page_content for doc in filtered_docs]),\n",
    "        query=query,)\n",
    "\n",
    "## 4.3. LLM 모델 생성(chatOpenAI 인스턴스 생성)\n",
    "llm = ChatOpenAI(model='gpt-4o')\n",
    "\n",
    "## 4.4. LLM 모델에 질문과 검색된 문서를 보냄\n",
    "ai_message = llm.invoke(formatted_prompt)\n",
    "ai_message"
   ]
  },
  {
   "cell_type": "code",
   "execution_count": null,
   "id": "bd24a6a5",
   "metadata": {},
   "outputs": [],
   "source": []
  },
  {
   "cell_type": "code",
   "execution_count": null,
   "id": "489193dd",
   "metadata": {},
   "outputs": [],
   "source": []
  }
 ],
 "metadata": {
  "kernelspec": {
   "display_name": "project",
   "language": "python",
   "name": "python3"
  },
  "language_info": {
   "codemirror_mode": {
    "name": "ipython",
    "version": 3
   },
   "file_extension": ".py",
   "mimetype": "text/x-python",
   "name": "python",
   "nbconvert_exporter": "python",
   "pygments_lexer": "ipython3",
   "version": "3.10.12"
  }
 },
 "nbformat": 4,
 "nbformat_minor": 5
}
