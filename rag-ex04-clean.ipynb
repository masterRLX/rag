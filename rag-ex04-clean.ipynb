{
 "cells": [
  {
   "cell_type": "markdown",
   "id": "c1d9dacc",
   "metadata": {},
   "source": [
    "1. 문서 내용 읽기  \n",
    "2. 문서 분할(쪼개기)  \n",
    "    - 문서를 분할하지 않으면,\n",
    "        - 토큰 수 초과로 답변을 생성하지 못할 수 있음.  \n",
    "        - 문서 길이(input)가 길어서 답변 생성에 시간 소요됨 - > 답변 늦어짐  \n",
    "3. 임베딩 - 벡터 데이터베이스에 저장\n",
    "4. 질문이 있으면, 벡터 데이터베이스 유사도 검색\n",
    "5. 유사도 검색으로 가져온 문서를 LLM에 질문과 같이 전달\n",
    "\n"
   ]
  },
  {
   "cell_type": "code",
   "execution_count": null,
   "id": "54b14f59",
   "metadata": {},
   "outputs": [],
   "source": [
    "## 패키지/라이브러리 설치\n",
    "# %pip install -qU docx2txt langchain-community langchain-text-splitters langchain-chroma"
   ]
  },
  {
   "cell_type": "code",
   "execution_count": null,
   "id": "353349e5",
   "metadata": {},
   "outputs": [
    {
     "name": "stdout",
     "output_type": "stream",
     "text": [
      "Requirement already satisfied: pinecone in c:\\users\\71\\miniconda3\\envs\\project\\lib\\site-packages (6.0.2)\n",
      "Requirement already satisfied: certifi>=2019.11.17 in c:\\users\\71\\miniconda3\\envs\\project\\lib\\site-packages (from pinecone) (2025.1.31)\n",
      "Requirement already satisfied: pinecone-plugin-interface<0.0.8,>=0.0.7 in c:\\users\\71\\miniconda3\\envs\\project\\lib\\site-packages (from pinecone) (0.0.7)\n",
      "Requirement already satisfied: python-dateutil>=2.5.3 in c:\\users\\71\\miniconda3\\envs\\project\\lib\\site-packages (from pinecone) (2.9.0.post0)\n",
      "Requirement already satisfied: typing-extensions>=3.7.4 in c:\\users\\71\\miniconda3\\envs\\project\\lib\\site-packages (from pinecone) (4.13.2)\n",
      "Requirement already satisfied: urllib3>=1.26.0 in c:\\users\\71\\miniconda3\\envs\\project\\lib\\site-packages (from pinecone) (2.4.0)\n",
      "Requirement already satisfied: six>=1.5 in c:\\users\\71\\miniconda3\\envs\\project\\lib\\site-packages (from python-dateutil>=2.5.3->pinecone) (1.17.0)\n",
      "Note: you may need to restart the kernel to use updated packages.\n"
     ]
    }
   ],
   "source": [
    "# %pip install pinecone langchain-pinecone"
   ]
  },
  {
   "cell_type": "code",
   "execution_count": 2,
   "id": "7c51aca0",
   "metadata": {},
   "outputs": [
    {
     "name": "stderr",
     "output_type": "stream",
     "text": [
      "c:\\Users\\71\\miniconda3\\envs\\project\\lib\\site-packages\\tqdm\\auto.py:21: TqdmWarning: IProgress not found. Please update jupyter and ipywidgets. See https://ipywidgets.readthedocs.io/en/stable/user_install.html\n",
      "  from .autonotebook import tqdm as notebook_tqdm\n"
     ]
    },
    {
     "data": {
      "text/plain": [
       "AIMessage(content='전세 사기 피해자에 대한 금융 지원은 주로 정부와 금융기관에서 마련한 특별 대출 프로그램과 지원 정책을 통해 이루어집니다. 한국에서는 전세 사기 피해를 입은 사람들을 돕기 위해 다양한 형태의 금융 지원이 제공됩니다. 여기에는 다음과 같은 지원책이 포함될 수 있습니다.\\n\\n1. **긴급 대출 지원**: 전세 사기 피해자가 당장 새로운 주거지를 구해야 하는 경우, 긴급 생계비나 주거비 대출을 저리로 제공받을 수 있습니다. 이를 통해 피해자는 새로 이사할 집을 마련할 수 있는 자금을 확보할 수 있습니다.\\n\\n2. **상환 유예**: 전세 사기를 당하여 경제적 어려움을 겪고 있는 피해자에 대해서는 기존의 채무 상환을 일정 기간 유예해주는 제도가 있을 수 있습니다. 이를 통해 경제적인 여유를 확보하고 사태를 해결할 시간을 벌 수 있습니다.\\n\\n3. **보증보험 활성화**: 임차인이 보증보험에 가입되어 있는 경우, 전세금을 돌려받지 못할 상황에 대비해 보험금을 청구할 수 있습니다. 정부는 이러한 보증보험의 가입을 권장하고, 피해자 지원을 위해 보험금을 신속하게 지급하는 체계를 마련할 수도 있습니다.\\n\\n4. **금융 상담 및 법률 지원**: 피해자들이 자신의 상황에 맞는 재정적 해결책을 찾을 수 있도록 금융 상담 서비스와 법률 상담을 제공받을 수 있습니다. 이를 통해 자신이 받을 수 있는 지원과 권리를 정확히 파악하고, 필요한 조치를 취할 수 있습니다.\\n\\n구체적인 지원 내용은 시기와 정책에 따라 변동될 수 있으므로, 가장 최신 정보를 확인하기 위해서는 정부의 관련 부서나 금융기관의 공지사항을 참고하거나, 법률 전문가와 상담하는 것이 중요합니다.', additional_kwargs={'refusal': None}, response_metadata={'token_usage': {'completion_tokens': 404, 'prompt_tokens': 60, 'total_tokens': 464, 'completion_tokens_details': {'accepted_prediction_tokens': 0, 'audio_tokens': 0, 'reasoning_tokens': 0, 'rejected_prediction_tokens': 0}, 'prompt_tokens_details': {'audio_tokens': 0, 'cached_tokens': 0}}, 'model_name': 'gpt-4o-2024-08-06', 'system_fingerprint': 'fp_07871e2ad8', 'id': 'chatcmpl-BedF6VPfNswn2VVt727Gyp0NQplc1', 'finish_reason': 'stop', 'logprobs': None}, id='run--74cb8f49-5abf-4368-aa17-ecd0568b59c9-0', usage_metadata={'input_tokens': 60, 'output_tokens': 404, 'total_tokens': 464, 'input_token_details': {'audio': 0, 'cache_read': 0}, 'output_token_details': {'audio': 0, 'reasoning': 0}})"
      ]
     },
     "execution_count": 2,
     "metadata": {},
     "output_type": "execute_result"
    }
   ],
   "source": [
    "import os\n",
    "from dotenv import load_dotenv\n",
    "from langchain_openai import OpenAIEmbeddings, ChatOpenAI\n",
    "from langchain_text_splitters import RecursiveCharacterTextSplitter\n",
    "from langchain_community.document_loaders import Docx2txtLoader\n",
    "from langchain_pinecone import PineconeVectorStore\n",
    "from pinecone import Pinecone\n",
    "\n",
    "\n",
    "## 1. 문서 내용 읽고 분할 #############################################\n",
    "loader = Docx2txtLoader('law_1.docx')\n",
    "\n",
    "text_splitter = RecursiveCharacterTextSplitter(\n",
    "    chunk_size=1500,\n",
    "    chunk_overlap=200,\n",
    ")\n",
    "document_list = loader.load_and_split(text_splitter=text_splitter)\n",
    "\n",
    "## 2. 임베딩 -> 벡터 데이터베이스에 저장 #############################\n",
    "   \n",
    "## 2.1. 환경변수 읽어오기\n",
    "load_dotenv()\n",
    "\n",
    "## 2.2. 임베딩 모델 지정\n",
    "embedding = OpenAIEmbeddings(model='text-embedding-3-large')\n",
    "\n",
    "\n",
    "## 3. Pinecone vector DB\n",
    "load_dotenv()\n",
    "api_key = os.getenv('PINECONE_API_KEY')\n",
    "pc = Pinecone(api_key=api_key)\n",
    "\n",
    "database = PineconeVectorStore.from_documents(\n",
    "    documents=document_list,\n",
    "    embedding=embedding,\n",
    "    index_name='law-index',\n",
    ")\n",
    "\n",
    "## 4. 질문이 있으면, 벡터 데이터베이스에서 유사도 검색  \n",
    "\n",
    "## 4.1. 사용자 질문\n",
    "query = '전세사기피해자 금융지원에 대해 설명해주세요.'\n",
    "\n",
    "## 4.2. 벡터 데이터베이스에서 유사도 검색\n",
    "retrieved_docs = database.similarity_search(query=query)\n",
    "\n",
    "## 5.0 유사도 검색으로 가져온 문서를 LLM에 질문과 같이 전달 #########\n",
    "\n",
    "## 5.1. 프롬프트 작성\n",
    "\n",
    "prompt = '''\n",
    "[identity]\n",
    "- 당신은 전세사기피해 법률 전문가입니다.\n",
    "- [context]를 참고하여사용자의 질문에 답변해주세요.\n",
    "\n",
    "[context]\n",
    "{retrieved_docs}\n",
    "\n",
    "Question: {query}\n",
    "'''\n",
    "## 5.2. 프롬프트 변수에 값 설정\n",
    "formatted_prompt = prompt.format(\n",
    "    retrieved_docs=retrieved_docs,\n",
    "    query=query,)\n",
    "\n",
    "## 5.3. LLM 모델 생성(chatOpenAI 인스턴스 생성)  \n",
    "llm = ChatOpenAI(model='gpt-4o')\n",
    "\n",
    "## 5.4. LLM 모델에 질문과 검색된 문서를 보냄  \n",
    "ai_message = llm.invoke(formatted_prompt)\n",
    "ai_message"
   ]
  }
 ],
 "metadata": {
  "kernelspec": {
   "display_name": "project",
   "language": "python",
   "name": "python3"
  },
  "language_info": {
   "codemirror_mode": {
    "name": "ipython",
    "version": 3
   },
   "file_extension": ".py",
   "mimetype": "text/x-python",
   "name": "python",
   "nbconvert_exporter": "python",
   "pygments_lexer": "ipython3",
   "version": "3.10.12"
  }
 },
 "nbformat": 4,
 "nbformat_minor": 5
}
