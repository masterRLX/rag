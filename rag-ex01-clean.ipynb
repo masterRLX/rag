{
 "cells": [
  {
   "cell_type": "markdown",
   "id": "c1d9dacc",
   "metadata": {},
   "source": [
    "1. 문서 내용 읽기  \n",
    "2. 문서 분할(쪼개기)  \n",
    "    - 문서를 분할하지 않으면,\n",
    "        - 토큰 수 초과로 답변을 생성하지 못할 수 있음.  \n",
    "        - 문서 길이(input)가 길어서 답변 생성에 시간 소요됨 - > 답변 늦어짐  \n",
    "3. 임베딩 - 벡터 데이터베이스에 저장\n",
    "4. 질문이 있으면, 벡터 데이터베이스 유사도 검색\n",
    "5. 유사도 검색으로 가져온 문서를 LLM에 질문과 같이 전달\n",
    "\n"
   ]
  },
  {
   "cell_type": "code",
   "execution_count": null,
   "id": "54b14f59",
   "metadata": {},
   "outputs": [],
   "source": [
    "## 패키지/라이브러리 설치\n",
    "# %pip install -qU docx2txt langchain-community langchain-text-splitters langchain-chroma"
   ]
  },
  {
   "cell_type": "code",
   "execution_count": null,
   "id": "7c51aca0",
   "metadata": {},
   "outputs": [],
   "source": [
    "from dotenv import load_dotenv\n",
    "from langchain_openai import OpenAIEmbeddings, ChatOpenAI\n",
    "from langchain_chroma import Chroma\n",
    "from langchain_text_splitters import RecursiveCharacterTextSplitter\n",
    "from langchain_community.document_loaders import Docx2txtLoader\n",
    "\n",
    "\n",
    "## 1. 문서 내용 읽고 분할 #############################################\n",
    "loader = Docx2txtLoader('law_1.docx')\n",
    "\n",
    "text_splitter = RecursiveCharacterTextSplitter(\n",
    "    chunk_size=1500,\n",
    "    chunk_overlap=200,\n",
    ")\n",
    "document_list = loader.load_and_split(text_splitter=text_splitter)\n",
    "\n",
    "## 2. 임베딩 -> 벡터 데이터베이스에 저장 #############################\n",
    "   \n",
    "## 2.1. 환경변수 읽어오기\n",
    "load_dotenv()\n",
    "\n",
    "## 2.2. 임베딩 모델 지정\n",
    "embedding = OpenAIEmbeddings(model='text-embedding-3-large')\n",
    "\n",
    "## 2.3. 벡터 데이터베이스에 저장  \n",
    "\n",
    "## 데이터베이스에 저장\n",
    "##[방법1] in memory\n",
    "database = Chroma.from_documents(\n",
    "    documents=document_list,\n",
    "    embedding=embedding,\n",
    ")\n",
    "\n",
    "## 3. 질문이 있으면, 벡터 데이터베이스에서 유사도 검색  \n",
    "\n",
    "## 3.1. 사용자 질문\n",
    "query = '전세사기피해자 금융지원에 대해 설명해주세요.'\n",
    "\n",
    "## 3.2. 벡터 데이터베이스에서 유사도 검색\n",
    "retrieved_docs = database.similarity_search(query=query)\n",
    "\n",
    "## 4.0 유사도 검색으로 가져온 문서를 LLM에 질문과 같이 전달 #########\n",
    "\n",
    "## 4.1. 프롬프트 작성\n",
    "\n",
    "prompt = '''\n",
    "[identity]\n",
    "- 당신은 전세사기피해 법률 전문가입니다.\n",
    "- [context]를 참고하여사용자의 질문에 답변해주세요.\n",
    "\n",
    "[context]\n",
    "{retrieved_docs}\n",
    "\n",
    "Question: {query}\n",
    "'''\n",
    "## 4.2. 프롬프트 변수에 값 설정\n",
    "formatted_prompt = prompt.format(\n",
    "    retrieved_docs=retrieved_docs,\n",
    "    query=query,)\n",
    "\n",
    "## 4.3. LLM 모델 생성(chatOpenAI 인스턴스 생성)  \n",
    "llm = ChatOpenAI(model='gpt-4o')\n",
    "\n",
    "## 4.4. LLM 모델에 질문과 검색된 문서를 보냄  \n",
    "ai_message = llm.invoke(formatted_prompt)\n",
    "ai_message"
   ]
  }
 ],
 "metadata": {
  "kernelspec": {
   "display_name": "project",
   "language": "python",
   "name": "python3"
  },
  "language_info": {
   "codemirror_mode": {
    "name": "ipython",
    "version": 3
   },
   "file_extension": ".py",
   "mimetype": "text/x-python",
   "name": "python",
   "nbconvert_exporter": "python",
   "pygments_lexer": "ipython3",
   "version": "3.10.12"
  }
 },
 "nbformat": 4,
 "nbformat_minor": 5
}
