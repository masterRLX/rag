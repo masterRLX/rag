{
 "cells": [
  {
   "cell_type": "markdown",
   "id": "0c58f142",
   "metadata": {},
   "source": [
    "## law_1.docx, law_2.docx 문서 두개\n",
    "- pinecone store 저장 (하나의 인덱스에 저장)\n",
    "    - index name 임의\n",
    "- RetrievalQA 구현\n",
    "    - prompt: rlm/rag-prompt\n",
    "    - 질문: 전세사기\n"
   ]
  },
  {
   "cell_type": "code",
   "execution_count": 1,
   "id": "19bd300d",
   "metadata": {},
   "outputs": [
    {
     "name": "stderr",
     "output_type": "stream",
     "text": [
      "c:\\Users\\71\\miniconda3\\envs\\project\\lib\\site-packages\\tqdm\\auto.py:21: TqdmWarning: IProgress not found. Please update jupyter and ipywidgets. See https://ipywidgets.readthedocs.io/en/stable/user_install.html\n",
      "  from .autonotebook import tqdm as notebook_tqdm\n"
     ]
    }
   ],
   "source": [
    "\n",
    "import os\n",
    "from dotenv import load_dotenv\n",
    "\n",
    "load_dotenv()\n",
    "\n",
    "from langchain_openai import ChatOpenAI, OpenAIEmbeddings\n",
    "from langchain_text_splitters import RecursiveCharacterTextSplitter\n",
    "from langchain_community.document_loaders import Docx2txtLoader\n",
    "from langchain_pinecone import PineconeVectorStore\n",
    "from pinecone import Pinecone\n",
    "from langchain import hub\n",
    "from langchain_core.output_parsers import StrOutputParser\n",
    "from langchain_core.runnables import RunnablePassthrough\n",
    "\n",
    "loader1 = Docx2txtLoader('law_1.docx')\n",
    "loader2 = Docx2txtLoader('law_2.docx')\n",
    "\n",
    "data1 = loader1.load()\n",
    "data2 = loader2.load()\n",
    "\n",
    "all_docs = data1 + data2\n",
    "\n",
    "text_splitter = RecursiveCharacterTextSplitter(\n",
    "    chunk_size=1500,\n",
    "    chunk_overlap=200,\n",
    ")\n",
    "\n",
    "document_list = text_splitter.split_documents(all_docs)\n",
    "\n",
    "embedding = OpenAIEmbeddings(model='text-embedding-3-large')\n",
    "\n",
    "llm = ChatOpenAI()\n",
    "\n"
   ]
  },
  {
   "cell_type": "code",
   "execution_count": 2,
   "id": "8f296791",
   "metadata": {},
   "outputs": [],
   "source": [
    "api_key = os.getenv('PINECONE_API_KEY')\n",
    "pc = Pinecone(api_key=api_key)\n",
    "\n",
    "# database = PineconeVectorStore.from_documents(\n",
    "#     documents=document_list,\n",
    "#     embedding=embedding,\n",
    "#     index_name='laws',\n",
    "# )\n",
    "\n",
    "database = PineconeVectorStore(\n",
    "    index=pc.Index('laws'),\n",
    "    embedding=embedding,\n",
    ")"
   ]
  },
  {
   "cell_type": "code",
   "execution_count": 3,
   "id": "faeccc7b",
   "metadata": {},
   "outputs": [
    {
     "data": {
      "text/plain": [
       "'전세사기피해주택 임대인의 국세는 전세사기피해주택의 임대인이 체납한 고지 또는 신고 건별 국세 금액과 전세사기피해주택의 가격, 그리고 전세사기피해주택의 임대인이 보유한 모든 주택의 가격 합계액에 따라 산정됩니다. 국세의 안분 방법에 대한 세부적인 사항은 대통령령에 의해 정해집니다. 국세의 우선 징수에 대한 특례나 국세의 안분 방법에 대한 세부 내용은 대통령령에 의해 규정됩니다.'"
      ]
     },
     "execution_count": 3,
     "metadata": {},
     "output_type": "execute_result"
    }
   ],
   "source": [
    "prompt = hub.pull('rlm/rag-prompt')\n",
    "\n",
    "def format_docs(docs):\n",
    "    return \"\\n\\n\".join(doc.page_content for doc in docs)\n",
    "\n",
    "qa_chain = (\n",
    "    {'context': database.as_retriever() | format_docs,\n",
    "     'question': RunnablePassthrough(),\n",
    "    }\n",
    "    | prompt\n",
    "    | llm\n",
    "    | StrOutputParser()\n",
    ")\n",
    "\n",
    "qa_chain.invoke('전세사기 피해주택 임대인의 국세 계산은 어떻게 하나요? 식이 따로 있나요?')\n"
   ]
  },
  {
   "cell_type": "code",
   "execution_count": null,
   "id": "e4adb753",
   "metadata": {},
   "outputs": [],
   "source": []
  },
  {
   "cell_type": "code",
   "execution_count": null,
   "id": "16ae531d",
   "metadata": {},
   "outputs": [],
   "source": []
  },
  {
   "cell_type": "code",
   "execution_count": null,
   "id": "328fd050",
   "metadata": {},
   "outputs": [],
   "source": []
  }
 ],
 "metadata": {
  "kernelspec": {
   "display_name": "project",
   "language": "python",
   "name": "python3"
  },
  "language_info": {
   "codemirror_mode": {
    "name": "ipython",
    "version": 3
   },
   "file_extension": ".py",
   "mimetype": "text/x-python",
   "name": "python",
   "nbconvert_exporter": "python",
   "pygments_lexer": "ipython3",
   "version": "3.10.12"
  }
 },
 "nbformat": 4,
 "nbformat_minor": 5
}
