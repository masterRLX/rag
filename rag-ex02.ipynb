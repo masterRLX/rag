{
 "cells": [
  {
   "cell_type": "code",
   "execution_count": 9,
   "id": "7c51aca0",
   "metadata": {},
   "outputs": [],
   "source": [
    "from dotenv import load_dotenv\n",
    "from langchain_openai import OpenAIEmbeddings, ChatOpenAI\n",
    "from langchain_chroma import Chroma\n",
    "from langchain_text_splitters import RecursiveCharacterTextSplitter\n",
    "from langchain_community.document_loaders import Docx2txtLoader\n",
    "\n",
    "\n",
    "## 1. 문서 내용 읽고 분할 #############################################\n",
    "loader = Docx2txtLoader('law_1.docx')\n",
    "\n",
    "text_splitter = RecursiveCharacterTextSplitter(\n",
    "    chunk_size=1500,\n",
    "    chunk_overlap=200,\n",
    ")\n",
    "document_list = loader.load_and_split(text_splitter=text_splitter)\n",
    "\n",
    "## 2. 임베딩 -> 벡터 데이터베이스에 저장 #############################\n",
    "   \n",
    "## 2.1. 환경변수 읽어오기\n",
    "load_dotenv()\n",
    "\n",
    "## 2.2. 임베딩 모델 지정\n",
    "embedding = OpenAIEmbeddings(model='text-embedding-3-large')\n",
    "\n",
    "## 2.3. 벡터 데이터베이스에 저장  \n",
    "\n",
    "## 데이터베이스에 저장\n",
    "##[방법1] in memory\n",
    "# database = Chroma.from_documents(\n",
    "#     documents=document_list,\n",
    "#     embedding=embedding,\n",
    "# )\n"
   ]
  },
  {
   "cell_type": "code",
   "execution_count": null,
   "id": "68a1cfad",
   "metadata": {},
   "outputs": [],
   "source": [
    "\n",
    "##[방법2 ] 로컬에 저장\n",
    "# database= Chroma.from_documents(\n",
    "#     documents=document_list,\n",
    "#     embedding=embedding,\n",
    "#     persist_directory='./chroma',\n",
    "#     collection_name='chroma-law',\n",
    "# )\n",
    "# database"
   ]
  },
  {
   "cell_type": "code",
   "execution_count": 12,
   "id": "3443f8f0",
   "metadata": {},
   "outputs": [
    {
     "data": {
      "text/plain": [
       "<langchain_chroma.vectorstores.Chroma at 0x296dbfc6ef0>"
      ]
     },
     "execution_count": 12,
     "metadata": {},
     "output_type": "execute_result"
    }
   ],
   "source": [
    "## 로컬에 저장된 임베딩 데이터 가져오기\n",
    "\n",
    "database = Chroma(\n",
    "    collection_name='chroma-law',\n",
    "    persist_directory='./chroma',\n",
    "    embedding_function=embedding,\n",
    ")\n",
    "\n",
    "database"
   ]
  },
  {
   "cell_type": "code",
   "execution_count": 13,
   "id": "58426e69",
   "metadata": {},
   "outputs": [
    {
     "data": {
      "text/plain": [
       "AIMessage(content='전세사기 피해자로 인정받기 위해서는 몇 가지 조건을 충족해야 합니다. 다음은 주요 조건들입니다:\\n\\n1. **주거 조건**: 「주택임대차보호법」 제3조에 따라 주택의 인도와 주민등록을 마치고, 임대차계약증서상의 확정일자를 갖추어야 합니다. 또한, 임차권등기를 마쳤거나 전세권이 설정된 경우도 포함됩니다.\\n\\n2. **임차보증금 요건**: 임차인의 임차보증금이 5억원 이하이어야 합니다. 특정 조건 하에 2억원의 범위에서 상향 조정이 가능합니다.\\n\\n3. **임대인의 재정 상황**: 임대인의 파산 또는 회생절차 개시, 임차주택의 경매 또는 공매절차의 시작, 임차인의 집행권원 확보 등이 있어 2인 이상의 임차인이 임차보증금 반환채권의 변제를 받지 못하는 피해가 발생하였거나 예상되어야 합니다.\\n\\n4. **임대인의 의도성**: 임대인에 대한 수사 개시, 임차보증금을 반환할 능력이 없는 자에 대한 주택 양도 또는 다수 주택 취득 및 임대와 같은 경우, 임차보증금반환채무를 이행하지 않을 의도가 있었다고 의심할 만한 상당한 이유가 있어야 합니다.\\n\\n다만, 특정 경우에 해당하는 경우 이 조건에서 제외될 수 있습니다. 예를 들어, 보증금 반환을 위한 보증이나 보험에 가입된 경우나, 대항력 또는 우선변제권 등을 통해 자력으로 보증금을 회수할 수 있다고 판단되는 경우 등입니다. \\n\\n이와 같은 요건들을 모두 충족해야 전세사기 피해자로 인정받을 수 있습니다.', additional_kwargs={'refusal': None}, response_metadata={'token_usage': {'completion_tokens': 402, 'prompt_tokens': 3078, 'total_tokens': 3480, 'completion_tokens_details': {'accepted_prediction_tokens': 0, 'audio_tokens': 0, 'reasoning_tokens': 0, 'rejected_prediction_tokens': 0}, 'prompt_tokens_details': {'audio_tokens': 0, 'cached_tokens': 0}}, 'model_name': 'gpt-4o-2024-08-06', 'system_fingerprint': 'fp_07871e2ad8', 'id': 'chatcmpl-BduOZHBIqxm1ZjBSCBArp3LRE58f7', 'finish_reason': 'stop', 'logprobs': None}, id='run--25a1f261-b6a4-40d8-aa29-ee4eb7871e64-0', usage_metadata={'input_tokens': 3078, 'output_tokens': 402, 'total_tokens': 3480, 'input_token_details': {'audio': 0, 'cache_read': 0}, 'output_token_details': {'audio': 0, 'reasoning': 0}})"
      ]
     },
     "execution_count": 13,
     "metadata": {},
     "output_type": "execute_result"
    }
   ],
   "source": [
    "\n",
    "## 3. 질문이 있으면, 벡터 데이터베이스에서 유사도 검색  \n",
    "\n",
    "## 3.1. 사용자 질문\n",
    "query = '전세사지 피해자로 인정받기 위한 조건은?.'\n",
    "\n",
    "## 3.2. 벡터 데이터베이스에서 유사도 검색\n",
    "retrieved_docs = database.similarity_search(query=query, k=3)\n",
    "\n",
    "## 4.0 유사도 검색으로 가져온 문서를 LLM에 질문과 같이 전달 #########\n",
    "\n",
    "## 4.1. 프롬프트 작성\n",
    "\n",
    "prompt = '''\n",
    "[identity]\n",
    "- 당신은 전세사기피해 법률 전문가입니다.\n",
    "- [context]를 참고하여사용자의 질문에 답변해주세요.\n",
    "\n",
    "[context]\n",
    "{retrieved_docs}\n",
    "\n",
    "Question: {query}\n",
    "'''\n",
    "## 4.2. 프롬프트 변수에 값 설정\n",
    "formatted_prompt = prompt.format(\n",
    "    retrieved_docs=retrieved_docs,\n",
    "    query=query,)\n",
    "\n",
    "## 4.3. LLM 모델 생성(chatOpenAI 인스턴스 생성)  \n",
    "llm = ChatOpenAI(model='gpt-4o')\n",
    "\n",
    "## 4.4. LLM 모델에 질문과 검색된 문서를 보냄  \n",
    "ai_message = llm.invoke(formatted_prompt)\n",
    "ai_message"
   ]
  }
 ],
 "metadata": {
  "kernelspec": {
   "display_name": "project",
   "language": "python",
   "name": "python3"
  },
  "language_info": {
   "codemirror_mode": {
    "name": "ipython",
    "version": 3
   },
   "file_extension": ".py",
   "mimetype": "text/x-python",
   "name": "python",
   "nbconvert_exporter": "python",
   "pygments_lexer": "ipython3",
   "version": "3.10.12"
  }
 },
 "nbformat": 4,
 "nbformat_minor": 5
}
